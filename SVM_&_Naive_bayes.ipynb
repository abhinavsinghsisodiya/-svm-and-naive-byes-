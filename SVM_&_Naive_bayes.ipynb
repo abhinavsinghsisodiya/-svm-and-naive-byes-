{
  "nbformat": 4,
  "nbformat_minor": 0,
  "metadata": {
    "colab": {
      "provenance": []
    },
    "kernelspec": {
      "name": "python3",
      "display_name": "Python 3"
    },
    "language_info": {
      "name": "python"
    }
  },
  "cells": [
    {
      "cell_type": "markdown",
      "source": [
        "# SVM & Naive bayes\n"
      ],
      "metadata": {
        "id": "JXL5YwuDnxXi"
      }
    },
    {
      "cell_type": "markdown",
      "source": [
        "1. H: What is a Support Vector Machine (SVM)\n",
        "-;A Support Vector Machine (SVM) is a supervised machine learning algorithm used for both classification and regression tasks. Its core principle involves finding an optimal hyperplane (or line in 2D space) that best separates data points of different classes while maximizing the margin between the hyperplane and the nearest data points of each class. These nearest data points are called support vectors.\n",
        "\n",
        "\n",
        "2. What is the difference between Hard Margin and Soft Margin SVM4\n",
        "-; The main difference between hard margin and soft margin Support Vector Machines (SVMs) lies in how they handle misclassifications and outliers in the data. Hard margin SVMs strive to find a hyperplane that perfectly separates the data into different classes with no errors, while soft margin SVMs allow some misclassifications, introducing slack variables to balance margin maximization and error penalties,\n",
        "\n",
        "\n",
        "\n",
        "3. What is the mathematical intuition behind SVM4\n",
        "-; The core intuition behind Support Vector Machines (SVMs) is to find the best hyperplane (a line in 2D, a plane in 3D, or a higher-dimensional equivalent) that separates different classes of data by maximizing the margin between them. The margin is the distance between the hyperplane and the closest data points from each class, and the SVM aims to create the widest possible margin to ensure robust classification.\n",
        "\n",
        "\n",
        "4.What is the role of Lagrange Multipliers in SVM\n",
        "-; In Support Vector Machines (SVMs), Lagrange multipliers help find the optimal hyperplane that maximizes the margin between classes. They are used to transform the constrained optimization problem into a dual form, allowing for powerful mathematical techniques to be applied. The Lagrange multipliers (λ) act as weights, balancing the objective function (margin maximization) with the constraints imposed by the support vectors.\n",
        "\n",
        "\n",
        "5. : What are Support Vectors in SVM\n",
        "-; In Support Vector Machines (SVMs), support vectors are the data points closest to the hyperplane (decision boundary) that separates different classes. These points are crucial because they determine the position and orientation of the hyperplane, and thus the margin. SVM aims to maximize this margin for better classification accuracy.\n",
        "\n",
        "\n",
        "\n",
        "\n",
        "6. What is a Support Vector Classifier (SVC)\n",
        "-; A support vector classifier (SVC) is a type of machine learning algorithm used for classification tasks, specifically binary classification (where the output belongs to one of two classes). It aims to find the best decision boundary, a hyperplane in a higher-dimensional space, that separates the data points of different classes with the largest possible margin.\n",
        "\n",
        "\n",
        "\n",
        "7. What is a Support Vector Regressor (SVR)\n",
        "-;Support Vector Regression (SVR) is a machine learning technique used for regression tasks, predicting continuous numeric values, and is an extension of Support Vector Machines (SVMs) used for classification. It aims to find a function that approximates the relationship between input variables and a continuous target variable, while minimizing prediction errors. SVR is particularly useful when dealing with complex datasets, outliers, or non-linear relationships\n",
        "\n",
        "\n",
        "\n",
        "8. What is the Kernel Trick in SVM4\n",
        "-;The kernel trick in Support Vector Machines (SVMs) is a powerful technique that allows linear SVM classifiers to solve non-linear classification problems by implicitly mapping data into a higher-dimensional space. Instead of explicitly transforming the data, the kernel trick uses a kernel function to calculate the dot product of the transformed data points, enabling the classifier to find a linear separator in this higher-dimensional space\n",
        "\n",
        "\n",
        "\n",
        "\n",
        "9. Compare Linear Kernel, Polynomial Kernel, and RBF Kernel\n",
        "-;1. Linear Kernel\n",
        "A linear kernel is the simplest form of kernel used in SVM. It is suitable when the data is linearly separable meaning that a straight line (or hyperplane in higher dimensions) can effectively separate the classes.\n",
        "It is represented as:\n",
        "K\n",
        "(\n",
        "x\n",
        ",\n",
        "y\n",
        ")\n",
        "=\n",
        "x\n",
        ".\n",
        "y\n",
        "K(x,y)=x.y\n",
        "It is used for text classification problems such as spam detection\n",
        "2. Polynomial Kernel\n",
        "The polynomial kernel allows SVM to model more complex relationships by introducing polynomial terms. It is useful when the data is not linearly separable but still follows a pattern. The formula of Polynomial kernel is:\n",
        "K\n",
        "(\n",
        "x\n",
        ",\n",
        "y\n",
        ")\n",
        "=\n",
        "(\n",
        "x\n",
        ".\n",
        "y\n",
        "+\n",
        "c\n",
        ")\n",
        "d\n",
        "K(x,y)=(x.y+c)\n",
        "d\n",
        "  where is a constant and d is the polynomial degree.\n",
        "It is used in Complex problems like image recognition where relationships between features can be non-linear.\n",
        "\n",
        "\n",
        "\n",
        "3. Radial Basis Function Kernel (RBF) Kernel\n",
        "The RBF kernel is the most widely used kernel in SVM. It maps the data into an infinite-dimensional space making it highly effective for complex classification problems. The formula of RBF kernel is:\n",
        "K\n",
        "(\n",
        "x\n",
        ",\n",
        "y\n",
        ")\n",
        "=\n",
        "e\n",
        "−\n",
        "(\n",
        "γ\n",
        "∣\n",
        "∣\n",
        "x\n",
        "−\n",
        "y\n",
        "∣\n",
        "∣\n",
        "2\n",
        ")\n",
        "\n",
        "K(x,y)=e\n",
        "−\n",
        " (γ∣∣x−y∣∣\n",
        "2\n",
        " )  where\n",
        "γ\n",
        "γ is a parameter that controls the influence of each training example.\n",
        "We use RBF kernel When the decision boundary is highly non-linear and we have no prior knowledge about the data’s structure is available.\n",
        "\n",
        "\n",
        "\n",
        "\n",
        "\n",
        "10. What is the effect of the C parameter in SVM\n",
        "-; In Support Vector Machines (SVM), the parameter C controls the trade-off between minimizing training errors and maximizing the margin of the decision boundary. Essentially, C determines how much the SVM is willing to penalize misclassifications. A larger C value leads to a smaller margin and a stronger penalty for misclassifications, potentially resulting in a model that fits the training data very closely (and may overfit). Conversely, a smaller C value allows for a larger margin and less penalty for misclassifications, leading to a simpler model that may generalize better but potentially underfit the training data.\n",
        "\n",
        "\n",
        "\n",
        "11. What is the role of the Gamma parameter in RBF Kernel SVM4\n",
        "-; In an RBF Kernel SVM, the gamma parameter controls the influence of individual training examples on the decision boundary. A higher gamma value means that a single training example has a smaller radius of influence, making the model highly sensitive to individual data points and potentially leading to overfitting. Conversely, a lower gamma value means that a single training example has a larger radius of influence, potentially leading to a smoother, less complex decision boundary\n",
        "\n",
        "\n",
        "\n",
        "\n",
        "\n",
        "12. What is the Naïve Bayes classifier, and why is it called \"Naïve\"\n",
        "-;The Naïve Bayes classifier is a simple probabilistic classifier based on Bayes' Theorem. It's called \"Naïve\" because it makes a simplifying assumption that the presence or absence of a feature in a class is independent of the presence or absence of any other feature.\n",
        "\n",
        "\n",
        "\n",
        "13. What is Bayes’ Theorem\n",
        "-;Bayes' Theorem, often referred to as Bayes' Law or Bayes' Rule, is a mathematical formula used to calculate conditional probability. It helps us update our beliefs or predictions about an event as new evidence becomes available. In essence, it allows us to calculate the probability of an event (A) happening, given that another event (B) has already occurred.\n",
        "\n",
        "\n",
        "\n",
        "14. : Explain the differences between Gaussian Naïve Bayes, Multinomial Naïve Bayes, and Bernoulli Naïve Bayes\n",
        "-;The key difference between Gaussian Naïve Bayes, Multinomial Naïve Bayes, and Bernoulli Naïve Bayes lies in the type of distribution they assume for each feature, which determines how they handle different data types.\n",
        "Gaussian Naïve Bayes:\n",
        "Assumes: Features follow a Gaussian (normal) distribution.\n",
        "Best for: Continuous data like measurements.\n",
        "Multinomial Naïve Bayes:\n",
        "Assumes: Features follow a Multinomial distribution.\n",
        "Best for: Discrete data, like counts of occurrences. For example, word frequencies in text documents.\n",
        "Bernoulli Naïve Bayes:\n",
        "Assumes: Features follow a Bernoulli distribution (binary values: 0 or 1).\n",
        "Best for: Binary features, like whether a word is present or absent in a document.\n",
        "\n",
        "\n",
        "\n",
        "\n",
        "\n",
        "15. When should you use Gaussian Naïve Bayes over other variants\n",
        "-; Gaussian Naive Bayes is best used when dealing with continuous or numerical data that is believed to follow a normal distribution. It assumes that features are independent and follow a Gaussian distribution, making it suitable for classification tasks where the features are not binary or categorical.\n",
        "\n",
        "\n",
        "\n",
        "16. : What are the key assumptions made by Naïve Bayes\n",
        "-; Naive Bayes algorithms make key assumptions about the relationship between features and the target class. Primarily, they assume that all features are conditionally independent of each other, given the class label, and that each feature contributes equally to the outcome. This means that the presence of one feature doesn't influence the probability of another feature, given the class.\n",
        "\n",
        "\n",
        "\n",
        "17. What are the advantages and disadvantages of Naïve Bayes4\n",
        "-;Naive Bayes classifiers offer several advantages, including simplicity, speed, and scalability, making them suitable for various applications. However, they also have drawbacks, primarily stemming from their strong independence assumption between features, which may not always hold true in real-world data.\n",
        "Advantages:\n",
        "Simplicity: Naive Bayes is easy to understand and implement, making it a good starting point for beginners in machine learning.\n",
        "Speed and Efficiency: It's computationally fast and requires less training data compared to more complex algorithms, making it efficient for large datasets.\n",
        "Scalability: It can handle large datasets and high-dimensional data, especially in tasks like text classification.\n",
        "Robust to Irrelevant Features: The algorithm is relatively unaffected by the presence of irrelevant features, says Medium.\n",
        "Handles Missing Data: Naive Bayes can handle missing data by ignoring it during training.\n",
        "Multinomial and Bernoulli Models: They offer flexibility in handling different data types.\n",
        "Disadvantages:\n",
        "Strong Independence Assumption:\n",
        "The most significant disadvantage is the assumption that all features are independent of each other, which is often violated in real-world data.\n",
        "Zero Probability Problem:\n",
        "If a feature value is not present in the training data, it can result in a zero probability estimate, leading to poor generalization. Laplace smoothing is often used to mitigate this issue.\n",
        "Sensitivity to Imbalanced Data:\n",
        "Naive Bayes can be biased by imbalanced datasets, potentially leading to inaccurate predictions for the minority class.\n",
        "Inability to Handle Complex Relationships:\n",
        "It may struggle with datasets where features have complex interactions, and more advanced models like decision trees or neural networks may be more suitable.\n",
        "Normal Distribution Assumption:\n",
        "When using the Gaussian Naive Bayes classifier, it assumes that features follow a normal distribution, which may not always be the case.\n",
        "\n",
        "\n",
        "\n",
        "\n",
        "\n",
        "18. Why is Naïve Bayes a good choice for text classification4\n",
        "-;Naive Bayes is a popular and effective algorithm for text classification due to its simplicity, speed, and ability to handle high-dimensional data, making it well-suited for text-based tasks. It also works well with limited datasets and is relatively robust to irrelevant features.\n",
        "\n",
        "\n",
        "\n",
        "19.  Compare SVM and Naïve Bayes for classification tasks\n",
        "-;The Naive Bayes classifier is favored for its speed, simplicity, and high accuracy, while the SVM excels at identifying a hyperplane that maximizes the margin between classes.\n",
        "\n",
        "\n",
        "\n",
        "20. How does Laplace Smoothing help in Naïve Bayes\n",
        "-; Laplace smoothing in Naive Bayes addresses the issue of zero probabilities by adding a small, positive constant (usually 1) to the counts of each feature (or word) within each class. This ensures that no feature has zero probability, even if it's not seen in the training data, preventing the model from becoming overly confident and potentially making inaccurate predictions.\n",
        "\n"
      ],
      "metadata": {
        "id": "AJf0LJXkn0dP"
      }
    },
    {
      "cell_type": "markdown",
      "source": [
        "# practical"
      ],
      "metadata": {
        "id": "DiDvyyGewikM"
      }
    },
    {
      "cell_type": "markdown",
      "source": [
        "21. Write a Python program to train an SVM Classifier on the Iris dataset and evaluate accuracy"
      ],
      "metadata": {
        "id": "Aj0KRdqkwm3q"
      }
    },
    {
      "cell_type": "code",
      "source": [
        "# SVM Classifier on Iris Dataset\n",
        "\n",
        "from sklearn import datasets\n",
        "from sklearn.model_selection import train_test_split\n",
        "from sklearn.svm import SVC\n",
        "from sklearn.metrics import accuracy_score\n",
        "\n",
        "# Load the Iris dataset\n",
        "iris = datasets.load_iris()\n",
        "X = iris.data\n",
        "y = iris.target\n",
        "\n",
        "# Split the dataset into training and testing sets\n",
        "X_train, X_test, y_train, y_test = train_test_split(X, y, test_size=0.2, random_state=42)\n",
        "\n",
        "# Create an SVM Classifier\n",
        "classifier = SVC(kernel='linear')\n",
        "\n",
        "# Train the classifier\n",
        "classifier.fit(X_train, y_train)\n",
        "\n",
        "# Make predictions\n",
        "y_pred = classifier.predict(X_test)\n",
        "\n",
        "# Evaluate accuracy\n",
        "accuracy = accuracy_score(y_test, y_pred)\n",
        "print(f'Accuracy: {accuracy * 100:.2f}%')\n"
      ],
      "metadata": {
        "colab": {
          "base_uri": "https://localhost:8080/"
        },
        "id": "36qWD9GJwmQC",
        "outputId": "c7f8183d-5906-46c7-f48b-a70ea09d20bb"
      },
      "execution_count": 1,
      "outputs": [
        {
          "output_type": "stream",
          "name": "stdout",
          "text": [
            "Accuracy: 100.00%\n"
          ]
        }
      ]
    },
    {
      "cell_type": "markdown",
      "source": [
        "22. Write a Python program to train two SVM classifiers with Linear and RBF kernels on the Wine dataset, then\n",
        "compare their accuracies:"
      ],
      "metadata": {
        "id": "2NAnkECdw8Zr"
      }
    },
    {
      "cell_type": "code",
      "source": [
        "# Wine SVM Classifier Comparison\n",
        "\n",
        "import pandas as pd\n",
        "from sklearn import datasets\n",
        "from sklearn.model_selection import train_test_split\n",
        "from sklearn.svm import SVC\n",
        "from sklearn.metrics import accuracy_score\n",
        "\n",
        "# Load the Wine dataset\n",
        "wine = datasets.load_wine()\n",
        "X = wine.data\n",
        "y = wine.target\n",
        "\n",
        "# Split the dataset into training and testing sets\n",
        "X_train, X_test, y_train, y_test = train_test_split(X, y, test_size=0.2, random_state=42)\n",
        "\n",
        "# Train SVM with Linear Kernel\n",
        "svm_linear = SVC(kernel='linear')\n",
        "svm_linear.fit(X_train, y_train)\n",
        "y_pred_linear = svm_linear.predict(X_test)\n",
        "accuracy_linear = accuracy_score(y_test, y_pred_linear)\n",
        "\n",
        "# Train SVM with RBF Kernel\n",
        "svm_rbf = SVC(kernel='rbf')\n",
        "svm_rbf.fit(X_train, y_train)\n",
        "y_pred_rbf = svm_rbf.predict(X_test)\n",
        "accuracy_rbf = accuracy_score(y_test, y_pred_rbf)\n",
        "\n",
        "# Print the accuracies\n",
        "print(f'Accuracy of SVM with Linear Kernel: {accuracy_linear:.2f}')\n",
        "print(f'Accuracy of SVM with RBF Kernel: {accuracy_rbf:.2f}')\n"
      ],
      "metadata": {
        "colab": {
          "base_uri": "https://localhost:8080/"
        },
        "id": "nyslD3gpxB1q",
        "outputId": "3db4a3dc-105c-4b14-c57c-0546b9fdb822"
      },
      "execution_count": 2,
      "outputs": [
        {
          "output_type": "stream",
          "name": "stdout",
          "text": [
            "Accuracy of SVM with Linear Kernel: 1.00\n",
            "Accuracy of SVM with RBF Kernel: 0.81\n"
          ]
        }
      ]
    },
    {
      "cell_type": "markdown",
      "source": [
        "23.  Write a Python program to train an SVM Regressor (SVR) on a housing dataset and evaluate it using Mean\n",
        "Squared Error (MSE)"
      ],
      "metadata": {
        "id": "SXWwj73hxM2q"
      }
    },
    {
      "cell_type": "code",
      "source": [
        "# Housing Dataset SVM Regressor\n",
        "\n",
        "import pandas as pd\n",
        "from sklearn.model_selection import train_test_split\n",
        "from sklearn.svm import SVR\n",
        "from sklearn.metrics import mean_squared_error\n",
        "\n",
        "# Load the dataset\n",
        "data = pd.read_csv('housing_data.csv')\n",
        "\n",
        "# Features and target variable\n",
        "X = data.drop('price', axis=1)\n",
        "y = data['price']\n",
        "\n",
        "# Split the dataset into training and testing sets\n",
        "X_train, X_test, y_train, y_test = train_test_split(X, y, test_size=0.2, random_state=42)\n",
        "\n",
        "# Create and train the SVR model\n",
        "model = SVR(kernel='rbf')\n",
        "model.fit(X_train, y_train)\n",
        "\n",
        "# Make predictions\n",
        "y_pred = model.predict(X_test)\n",
        "\n",
        "# Evaluate the model using Mean Squared Error\n",
        "mse = mean_squared_error(y_test, y_pred)\n",
        "print(f'Mean Squared Error: {mse}')\n",
        "\n"
      ],
      "metadata": {
        "id": "sq_0FnUmxQ8h"
      },
      "execution_count": null,
      "outputs": []
    },
    {
      "cell_type": "markdown",
      "source": [
        "24. Write a Python program to train an SVM Classifier with a Polynomial Kernel and visualize the decision\n",
        "boundary"
      ],
      "metadata": {
        "id": "EefHf5-Jxp8y"
      }
    },
    {
      "cell_type": "code",
      "source": [
        "# SVM Classifier with Polynomial Kernel\n",
        "\n",
        "import numpy as np\n",
        "import matplotlib.pyplot as plt\n",
        "from sklearn import datasets\n",
        "from sklearn import svm\n",
        "from sklearn.model_selection import train_test_split\n",
        "\n",
        "# Load dataset\n",
        "X, y = datasets.make_moons(n_samples=100, noise=0.1, random_state=42)\n",
        "\n",
        "# Split the dataset into training and testing sets\n",
        "X_train, X_test, y_train, y_test = train_test_split(X, y, test_size=0.3, random_state=42)\n",
        "\n",
        "# Create SVM classifier with polynomial kernel\n",
        "clf = svm.SVC(kernel='poly', degree=3, C=1.0)\n",
        "clf.fit(X_train, y_train)\n",
        "\n",
        "# Create a mesh to plot the decision boundary\n",
        "x_min, x_max = X[:, 0].min() - 1, X[:, 0].max() + 1\n",
        "y_min, y_max = X[:, 1].min() - 1, X[:, 1].max() + 1\n",
        "xx, yy = np.meshgrid(np.arange(x_min, x_max, 0.01),\n",
        "                     np.arange(y_min, y_max, 0.01))\n",
        "\n",
        "# Predict the function value for the whole grid\n",
        "Z = clf.predict(np.c_[xx.ravel(), yy.ravel()])\n",
        "Z = Z.reshape(xx.shape)\n",
        "\n",
        "# Plotting\n",
        "plt.contourf(xx, yy, Z, alpha=0.8)\n",
        "plt.scatter(X_train[:, 0], X_train[:, 1], c=y_train, edgecolors='k', marker='o', label='Train')\n",
        "plt.scatter(X_test[:, 0], X_test[:, 1], c=y_test, edgecolors='k', marker='x', label='Test')\n",
        "plt.title('SVM Classifier with Polynomial Kernel')\n",
        "plt.xlabel('Feature 1')\n",
        "plt.ylabel('Feature 2')\n",
        "plt.legend()\n",
        "plt.show()\n"
      ],
      "metadata": {
        "colab": {
          "base_uri": "https://localhost:8080/",
          "height": 527
        },
        "id": "ol7cNFJyxukw",
        "outputId": "de5e65a7-0a7f-4c79-b6e6-e2247d0c7c5d"
      },
      "execution_count": 5,
      "outputs": [
        {
          "output_type": "stream",
          "name": "stderr",
          "text": [
            "<ipython-input-5-a5a3893fc0ff>:32: UserWarning: You passed a edgecolor/edgecolors ('k') for an unfilled marker ('x').  Matplotlib is ignoring the edgecolor in favor of the facecolor.  This behavior may change in the future.\n",
            "  plt.scatter(X_test[:, 0], X_test[:, 1], c=y_test, edgecolors='k', marker='x', label='Test')\n"
          ]
        },
        {
          "output_type": "display_data",
          "data": {
            "text/plain": [
              "<Figure size 640x480 with 1 Axes>"
            ],
            "image/png": "[encoded data removed]"
          },
          "metadata": {}
        }
      ]
    },
    {
      "cell_type": "markdown",
      "source": [
        "25. : Write a Python program to train a Gaussian Naïve Bayes classifier on the Breast Cancer dataset and\n",
        "evaluate accuracy"
      ],
      "metadata": {
        "id": "EbLGtX9hx2iY"
      }
    },
    {
      "cell_type": "code",
      "source": [
        "# Breast Cancer Classification using Gaussian Naïve Bayes\n",
        "\n",
        "from sklearn.datasets import load_breast_cancer\n",
        "from sklearn.model_selection import train_test_split\n",
        "from sklearn.naive_bayes import GaussianNB\n",
        "from sklearn.metrics import accuracy_score\n",
        "\n",
        "# Load the dataset\n",
        "data = load_breast_cancer()\n",
        "X = data.data\n",
        "y = data.target\n",
        "\n",
        "# Split the dataset into training and testing sets\n",
        "X_train, X_test, y_train, y_test = train_test_split(X, y, test_size=0.2, random_state=42)\n",
        "\n",
        "# Create a Gaussian Naïve Bayes classifier\n",
        "gnb = GaussianNB()\n",
        "\n",
        "# Train the classifier\n",
        "gnb.fit(X_train, y_train)\n",
        "\n",
        "# Make predictions\n",
        "y_pred = gnb.predict(X_test)\n",
        "\n",
        "# Evaluate accuracy\n",
        "accuracy = accuracy_score(y_test, y_pred)\n",
        "print(f'Accuracy: {accuracy * 100:.2f}%')\n"
      ],
      "metadata": {
        "colab": {
          "base_uri": "https://localhost:8080/"
        },
        "id": "nyrRS70Ux6dw",
        "outputId": "52666d2b-f74d-491b-f168-f57759de0f38"
      },
      "execution_count": 6,
      "outputs": [
        {
          "output_type": "stream",
          "name": "stdout",
          "text": [
            "Accuracy: 97.37%\n"
          ]
        }
      ]
    },
    {
      "cell_type": "markdown",
      "source": [
        "26. Write a Python program to train a Multinomial Naïve Bayes classifier for text classification using the 20\n",
        "Newsgroups dataset."
      ],
      "metadata": {
        "id": "MZ2oDsa3yBOo"
      }
    },
    {
      "cell_type": "code",
      "source": [
        "# Multinomial Naïve Bayes Classifier for Text Classification\n",
        "\n",
        "from sklearn.datasets import fetch_20newsgroups\n",
        "from sklearn.feature_extraction.text import CountVectorizer\n",
        "from sklearn.naive_bayes import MultinomialNB\n",
        "from sklearn.pipeline import make_pipeline\n",
        "from sklearn.model_selection import train_test_split\n",
        "from sklearn import metrics\n",
        "\n",
        "# Load the dataset\n",
        "newsgroups = fetch_20newsgroups(subset='all')\n",
        "\n",
        "# Split the dataset into training and testing sets\n",
        "X_train, X_test, y_train, y_test = train_test_split(newsgroups.data, newsgroups.target, test_size=0.2, random_state=42)\n",
        "\n",
        "# Create a pipeline that combines CountVectorizer and MultinomialNB\n",
        "model = make_pipeline(CountVectorizer(), MultinomialNB())\n",
        "\n",
        "# Train the model\n",
        "model.fit(X_train, y_train)\n",
        "\n",
        "# Make predictions\n",
        "predicted = model.predict(X_test)\n",
        "\n",
        "# Evaluate the model\n",
        "accuracy = metrics.accuracy_score(y_test, predicted)\n",
        "print(f'Accuracy: {accuracy:.4f}')\n"
      ],
      "metadata": {
        "colab": {
          "base_uri": "https://localhost:8080/"
        },
        "id": "zJTe7m3uyNDw",
        "outputId": "b9a7cb07-d53e-4317-f726-720d0b918068"
      },
      "execution_count": 7,
      "outputs": [
        {
          "output_type": "stream",
          "name": "stdout",
          "text": [
            "Accuracy: 0.8512\n"
          ]
        }
      ]
    },
    {
      "cell_type": "markdown",
      "source": [
        "27. = Write a Python program to train an SVM Classifier with different C values and compare the decision\n",
        "boundaries visually"
      ],
      "metadata": {
        "id": "UidZaaUxyMbZ"
      }
    },
    {
      "cell_type": "code",
      "source": [
        "# SVM Classifier with Different C Values\n",
        "\n",
        "import numpy as np\n",
        "import matplotlib.pyplot as plt\n",
        "from sklearn import datasets\n",
        "from sklearn import svm\n",
        "\n",
        "# Load dataset\n",
        "X, y = datasets.make_moons(n_samples=100, noise=0.1, random_state=42)\n",
        "\n",
        "# Define C values to test\n",
        "C_values = [0.01, 0.1, 1, 10, 100]\n",
        "\n",
        "# Create a mesh grid for plotting decision boundaries\n",
        "x_min, x_max = X[:, 0].min() - 1, X[:, 0].max() + 1\n",
        "y_min, y_max = X[:, 1].min() - 1, X[:, 1].max() + 1\n",
        "xx, yy = np.meshgrid(np.arange(x_min, x_max, 0.01),\n",
        "                     np.arange(y_min, y_max, 0.01))\n",
        "\n",
        "plt.figure(figsize=(15, 10))\n",
        "\n",
        "for i, C in enumerate(C_values):\n",
        "    # Train SVM Classifier\n",
        "    clf = svm.SVC(C=C, kernel='rbf', gamma='scale')\n",
        "    clf.fit(X, y)\n",
        "\n",
        "    # Plot decision boundary\n",
        "    plt.subplot(2, 3, i + 1)\n",
        "    Z = clf.decision_function(np.c_[xx.ravel(), yy.ravel()])\n",
        "    Z = Z.reshape(xx.shape)\n",
        "    plt.contourf(xx, yy, Z > 0, alpha=0.8)\n",
        "    plt.scatter(X[:, 0], X[:, 1], c=y, edgecolors='k', marker='o')\n",
        "    plt.title(f'SVM with C={C}')\n",
        "    plt.xlim(xx.min(), xx.max())\n",
        "    plt.ylim(yy.min(), yy.max())\n",
        "    plt.xlabel('Feature 1')\n",
        "    plt.ylabel('Feature 2')\n",
        "\n",
        "plt.tight_layout()\n",
        "plt.show()\n"
      ],
      "metadata": {
        "colab": {
          "base_uri": "https://localhost:8080/",
          "height": 837
        },
        "id": "1M483qE4yVsJ",
        "outputId": "77e8d29f-76c7-42e3-c9c1-04c90f7d9abe"
      },
      "execution_count": 8,
      "outputs": [
        {
          "output_type": "display_data",
          "data": {
            "text/plain": [
              "<Figure size 1500x1000 with 5 Axes>"
            ],
            "image/png": "[encoded data removed]"
          },
          "metadata": {}
        }
      ]
    },
    {
      "cell_type": "markdown",
      "source": [
        "28. = Write a Python program to train a Bernoulli Naïve Bayes classifier for binary classification on a dataset with\n",
        "binary features="
      ],
      "metadata": {
        "id": "CPTfDeX4yfnh"
      }
    },
    {
      "cell_type": "code",
      "source": [
        "# Bernoulli Naïve Bayes Classifier for Binary Classification\n",
        "\n",
        "from sklearn.datasets import make_classification\n",
        "from sklearn.model_selection import train_test_split\n",
        "from sklearn.naive_bayes import BernoulliNB\n",
        "from sklearn.metrics import accuracy_score\n",
        "\n",
        "# Generate a binary classification dataset\n",
        "X, y = make_classification(n_samples=1000, n_features=20, n_informative=2, n_redundant=0,\n",
        "                           n_clusters_per_class=1, random_state=42, binary=True)\n",
        "\n",
        "# Split the dataset into training and testing sets\n",
        "X_train, X_test, y_train, y_test = train_test_split(X, y, test_size=0.3, random_state=42)\n",
        "\n",
        "# Create a Bernoulli Naïve Bayes classifier\n",
        "model = BernoulliNB()\n",
        "\n",
        "# Train the model\n",
        "model.fit(X_train, y_train)\n",
        "\n",
        "# Make predictions\n",
        "y_pred = model.predict(X_test)\n",
        "\n",
        "# Calculate accuracy\n",
        "accuracy = accuracy_score(y_test, y_pred)\n",
        "\n",
        "print(f'Accuracy: {accuracy:.2f}')\n"
      ],
      "metadata": {
        "id": "6oNep0I2yjW5"
      },
      "execution_count": null,
      "outputs": []
    },
    {
      "cell_type": "markdown",
      "source": [
        "29. Write a Python program to apply feature scaling before training an SVM model and compare results with\n",
        "unscaled data"
      ],
      "metadata": {
        "id": "gKFwoj_yyt4j"
      }
    },
    {
      "cell_type": "code",
      "source": [
        "# Feature Scaling and SVM Model Comparison\n",
        "\n",
        "import numpy as np\n",
        "import pandas as pd\n",
        "from sklearn import datasets\n",
        "from sklearn.model_selection import train_test_split\n",
        "from sklearn.preprocessing import StandardScaler\n",
        "from sklearn.svm import SVC\n",
        "from sklearn.metrics import accuracy_score\n",
        "\n",
        "# Load dataset\n",
        "iris = datasets.load_iris()\n",
        "X = iris.data\n",
        "y = iris.target\n",
        "\n",
        "# Split the dataset into training and testing sets\n",
        "X_train, X_test, y_train, y_test = train_test_split(X, y, test_size=0.2, random_state=42)\n",
        "\n",
        "# Train SVM model without scaling\n",
        "svm_unscaled = SVC(kernel='linear', random_state=42)\n",
        "svm_unscaled.fit(X_train, y_train)\n",
        "y_pred_unscaled = svm_unscaled.predict(X_test)\n",
        "accuracy_unscaled = accuracy_score(y_test, y_pred_unscaled)\n",
        "\n",
        "# Feature scaling\n",
        "scaler = StandardScaler()\n",
        "X_train_scaled = scaler.fit_transform(X_train)\n",
        "X_test_scaled = scaler.transform(X_test)\n",
        "\n",
        "# Train SVM model with scaling\n",
        "svm_scaled = SVC(kernel='linear', random_state=42)\n",
        "svm_scaled.fit(X_train_scaled, y_train)\n",
        "y_pred_scaled = svm_scaled.predict(X_test_scaled)\n",
        "accuracy_scaled = accuracy_score(y_test, y_pred_scaled)\n",
        "\n",
        "# Print results\n",
        "print(f'Accuracy without scaling: {accuracy_unscaled:.2f}')\n",
        "print(f'Accuracy with scaling: {accuracy_scaled:.2f}')\n"
      ],
      "metadata": {
        "colab": {
          "base_uri": "https://localhost:8080/"
        },
        "id": "-TjuKt_UyyI5",
        "outputId": "3475b809-757d-49bc-ce76-e3be6ec84e0c"
      },
      "execution_count": 10,
      "outputs": [
        {
          "output_type": "stream",
          "name": "stdout",
          "text": [
            "Accuracy without scaling: 1.00\n",
            "Accuracy with scaling: 0.97\n"
          ]
        }
      ]
    },
    {
      "cell_type": "markdown",
      "source": [
        "30. Write a Python program to train a Gaussian Naïve Bayes model and compare the predictions before and\n",
        "after Laplace Smoothing="
      ],
      "metadata": {
        "id": "b9eLVB_Xy5yu"
      }
    },
    {
      "cell_type": "code",
      "source": [
        "# Gaussian Naïve Bayes Model with and without Laplace Smoothing\n",
        "\n",
        "import numpy as np\n",
        "from sklearn.datasets import load_iris\n",
        "from sklearn.model_selection import train_test_split\n",
        "from sklearn.naive_bayes import GaussianNB\n",
        "from sklearn.metrics import accuracy_score\n",
        "\n",
        "# Load dataset\n",
        "data = load_iris()\n",
        "X = data.data\n",
        "y = data.target\n",
        "\n",
        "# Split the dataset into training and testing sets\n",
        "X_train, X_test, y_train, y_test = train_test_split(X, y, test_size=0.3, random_state=42)\n",
        "\n",
        "# Train Gaussian Naïve Bayes model without Laplace Smoothing\n",
        "model_no_smoothing = GaussianNB(var_smoothing=1e-9)\n",
        "model_no_smoothing.fit(X_train, y_train)\n",
        "predictions_no_smoothing = model_no_smoothing.predict(X_test)\n",
        "\n",
        "# Train Gaussian Naïve Bayes model with Laplace Smoothing\n",
        "model_with_smoothing = GaussianNB(var_smoothing=1.0)\n",
        "model_with_smoothing.fit(X_train, y_train)\n",
        "predictions_with_smoothing = model_with_smoothing.predict(X_test)\n",
        "\n",
        "# Compare predictions\n",
        "accuracy_no_smoothing = accuracy_score(y_test, predictions_no_smoothing)\n",
        "accuracy_with_smoothing = accuracy_score(y_test, predictions_with_smoothing)\n",
        "\n",
        "print(f'Accuracy without Laplace Smoothing: {accuracy_no_smoothing:.2f}')\n",
        "print(f'Accuracy with Laplace Smoothing: {accuracy_with_smoothing:.2f}')\n"
      ],
      "metadata": {
        "colab": {
          "base_uri": "https://localhost:8080/"
        },
        "id": "cAYdtI-OzEvv",
        "outputId": "f4b08170-51de-43ff-ac55-1f11974e76a5"
      },
      "execution_count": 11,
      "outputs": [
        {
          "output_type": "stream",
          "name": "stdout",
          "text": [
            "Accuracy without Laplace Smoothing: 0.98\n",
            "Accuracy with Laplace Smoothing: 0.98\n"
          ]
        }
      ]
    },
    {
      "cell_type": "markdown",
      "source": [
        "31. Write a Python program to train an SVM Classifier and use GridSearchCV to tune the hyperparameters (C,\n",
        "gamma, kernel)="
      ],
      "metadata": {
        "id": "U74Tvm5yzHHJ"
      }
    },
    {
      "cell_type": "code",
      "source": [
        "# SVM Classifier with GridSearchCV\n",
        "\n",
        "import numpy as np\n",
        "import pandas as pd\n",
        "from sklearn import datasets\n",
        "from sklearn.model_selection import train_test_split, GridSearchCV\n",
        "from sklearn.svm import SVC\n",
        "from sklearn.metrics import classification_report, confusion_matrix\n",
        "\n",
        "# Load dataset\n",
        "iris = datasets.load_iris()\n",
        "X = iris.data\n",
        "y = iris.target\n",
        "\n",
        "# Split the dataset into training and testing sets\n",
        "X_train, X_test, y_train, y_test = train_test_split(X, y, test_size=0.2, random_state=42)\n",
        "\n",
        "# Define the model\n",
        "svm = SVC()\n",
        "\n",
        "# Define the parameters for GridSearchCV\n",
        "param_grid = {\n",
        "    'C': [0.1, 1, 10, 100],\n",
        "    'gamma': [0.01, 0.1, 1, 10],\n",
        "    'kernel': ['linear', 'rbf', 'poly']\n",
        "}\n",
        "\n",
        "# Set up GridSearchCV\n",
        "grid_search = GridSearchCV(svm, param_grid, cv=5)\n",
        "grid_search.fit(X_train, y_train)\n",
        "\n",
        "# Best parameters\n",
        "print(\"Best parameters found: \", grid_search.best_params_)\n",
        "\n",
        "# Predictions\n",
        "y_pred = grid_search.predict(X_test)\n",
        "\n",
        "# Evaluation\n",
        "print(confusion_matrix(y_test, y_pred))\n",
        "print(classification_report(y_test, y_pred))\n"
      ],
      "metadata": {
        "colab": {
          "base_uri": "https://localhost:8080/"
        },
        "id": "Yb-_TnRAzLEG",
        "outputId": "697da8b5-c3bd-4863-8778-55c9323ebe19"
      },
      "execution_count": 12,
      "outputs": [
        {
          "output_type": "stream",
          "name": "stdout",
          "text": [
            "Best parameters found:  {'C': 0.1, 'gamma': 0.1, 'kernel': 'poly'}\n",
            "[[10  0  0]\n",
            " [ 0  9  0]\n",
            " [ 0  0 11]]\n",
            "              precision    recall  f1-score   support\n",
            "\n",
            "           0       1.00      1.00      1.00        10\n",
            "           1       1.00      1.00      1.00         9\n",
            "           2       1.00      1.00      1.00        11\n",
            "\n",
            "    accuracy                           1.00        30\n",
            "   macro avg       1.00      1.00      1.00        30\n",
            "weighted avg       1.00      1.00      1.00        30\n",
            "\n"
          ]
        }
      ]
    },
    {
      "cell_type": "markdown",
      "source": [
        "32. Write a Python program to train an SVM Classifier on an imbalanced dataset and apply class weighting and\n",
        "check it improve accuracy"
      ],
      "metadata": {
        "id": "U3QKiIv_zSaH"
      }
    },
    {
      "cell_type": "code",
      "source": [
        "# SVM Classifier on Imbalanced Dataset with Class Weighting\n",
        "\n",
        "import numpy as np\n",
        "import pandas as pd\n",
        "from sklearn.datasets import make_classification\n",
        "from sklearn.model_selection import train_test_split\n",
        "from sklearn.svm import SVC\n",
        "from sklearn.metrics import classification_report, accuracy_score\n",
        "from sklearn.utils.class_weight import compute_class_weight\n",
        "\n",
        "# Generate an imbalanced dataset\n",
        "X, y = make_classification(n_samples=1000, n_features=20, n_classes=2,\n",
        "                           weights=[0.9, 0.1], flip_y=0, random_state=42)\n",
        "\n",
        "# Split the dataset into training and testing sets\n",
        "X_train, X_test, y_train, y_test = train_test_split(X, y, test_size=0.3, random_state=42)\n",
        "\n",
        "# Compute class weights\n",
        "class_weights = compute_class_weight('balanced', classes=np.unique(y_train), y=y_train)\n",
        "class_weight_dict = dict(enumerate(class_weights))\n",
        "\n",
        "# Train SVM Classifier with class weighting\n",
        "svm_classifier = SVC(class_weight=class_weight_dict, random_state=42)\n",
        "svm_classifier.fit(X_train, y_train)\n",
        "\n",
        "# Make predictions\n",
        "y_pred = svm_classifier.predict(X_test)\n",
        "\n",
        "# Evaluate the model\n",
        "accuracy = accuracy_score(y_test, y_pred)\n",
        "report = classification_report(y_test, y_pred)\n",
        "\n",
        "print(f'Accuracy: {accuracy}')\n",
        "print('Classification Report:')\n",
        "print(report)\n"
      ],
      "metadata": {
        "colab": {
          "base_uri": "https://localhost:8080/"
        },
        "id": "MMA6DkXpzWeG",
        "outputId": "cbaf333b-7774-497c-b000-3e0d66ef19e3"
      },
      "execution_count": 13,
      "outputs": [
        {
          "output_type": "stream",
          "name": "stdout",
          "text": [
            "Accuracy: 0.92\n",
            "Classification Report:\n",
            "              precision    recall  f1-score   support\n",
            "\n",
            "           0       0.97      0.95      0.96       275\n",
            "           1       0.52      0.64      0.57        25\n",
            "\n",
            "    accuracy                           0.92       300\n",
            "   macro avg       0.74      0.79      0.76       300\n",
            "weighted avg       0.93      0.92      0.92       300\n",
            "\n"
          ]
        }
      ]
    },
    {
      "cell_type": "markdown",
      "source": [
        "33. = Write a Python program to implement a Naïve Bayes classifier for spam detection using email data="
      ],
      "metadata": {
        "id": "M_G5HXLkzdhm"
      }
    },
    {
      "cell_type": "code",
      "source": [
        "# Naïve Bayes Classifier for Spam Detection\n",
        "\n",
        "import pandas as pd\n",
        "from sklearn.model_selection import train_test_split\n",
        "from sklearn.feature_extraction.text import CountVectorizer\n",
        "from sklearn.naive_bayes import MultinomialNB\n",
        "from sklearn.metrics import accuracy_score, classification_report\n",
        "\n",
        "# Load the dataset\n",
        "data = pd.read_csv('emails.csv')\n",
        "\n",
        "# Preprocess the data\n",
        "X = data['text']\n",
        "y = data['label']\n",
        "\n",
        "# Split the dataset into training and testing sets\n",
        "X_train, X_test, y_train, y_test = train_test_split(X, y, test_size=0.2, random_state=42)\n",
        "\n",
        "# Convert text data into numerical data\n",
        "vectorizer = CountVectorizer()\n",
        "X_train_vectorized = vectorizer.fit_transform(X_train)\n",
        "X_test_vectorized = vectorizer.transform(X_test)\n",
        "\n",
        "# Create and train the Naïve Bayes classifier\n",
        "model = MultinomialNB()\n",
        "model.fit(X_train_vectorized, y_train)\n",
        "\n",
        "# Make predictions\n",
        "y_pred = model.predict(X_test_vectorized)\n",
        "\n",
        "# Evaluate the model\n",
        "accuracy = accuracy_score(y_test, y_pred)\n",
        "report = classification_report(y_test, y_pred)\n",
        "\n",
        "print(f'Accuracy: {accuracy}')\n",
        "print('Classification Report:')\n",
        "print(report)\n"
      ],
      "metadata": {
        "id": "cX8oOkm4ziwW"
      },
      "execution_count": null,
      "outputs": []
    },
    {
      "cell_type": "markdown",
      "source": [
        "34. Write a Python program to train an SVM Classifier and a Naïve Bayes Classifier on the same dataset and\n",
        "compare their accuracy\n"
      ],
      "metadata": {
        "id": "uJi7bUQozsBP"
      }
    },
    {
      "cell_type": "code",
      "source": [
        "# SVM vs Naive Bayes Classifier Comparison\n",
        "\n",
        "import numpy as np\n",
        "import pandas as pd\n",
        "from sklearn.model_selection import train_test_split\n",
        "from sklearn.svm import SVC\n",
        "from sklearn.naive_bayes import GaussianNB\n",
        "from sklearn.metrics import accuracy_score\n",
        "from sklearn.datasets import load_iris\n",
        "\n",
        "# Load dataset\n",
        "data = load_iris()\n",
        "X = data.data\n",
        "y = data.target\n",
        "\n",
        "# Split the dataset into training and testing sets\n",
        "X_train, X_test, y_train, y_test = train_test_split(X, y, test_size=0.2, random_state=42)\n",
        "\n",
        "# Train SVM Classifier\n",
        "svm_classifier = SVC(kernel='linear')\n",
        "svm_classifier.fit(X_train, y_train)\n",
        "svm_predictions = svm_classifier.predict(X_test)\n",
        "svm_accuracy = accuracy_score(y_test, svm_predictions)\n",
        "\n",
        "# Train Naive Bayes Classifier\n",
        "nb_classifier = GaussianNB()\n",
        "nb_classifier.fit(X_train, y_train)\n",
        "nb_predictions = nb_classifier.predict(X_test)\n",
        "nb_accuracy = accuracy_score(y_test, nb_predictions)\n",
        "\n",
        "# Print the accuracy of both classifiers\n",
        "print(f\"SVM Classifier Accuracy: {svm_accuracy * 100:.2f}%\")\n",
        "print(f\"Naive Bayes Classifier Accuracy: {nb_accuracy * 100:.2f}%\")\n"
      ],
      "metadata": {
        "colab": {
          "base_uri": "https://localhost:8080/"
        },
        "id": "sIgKViMuz8n1",
        "outputId": "f48205d6-46f5-4b3e-8947-da8bf19d9e8f"
      },
      "execution_count": 15,
      "outputs": [
        {
          "output_type": "stream",
          "name": "stdout",
          "text": [
            "SVM Classifier Accuracy: 100.00%\n",
            "Naive Bayes Classifier Accuracy: 100.00%\n"
          ]
        }
      ]
    },
    {
      "cell_type": "markdown",
      "source": [
        "35.  Write a Python program to perform feature selection before training a Naïve Bayes classifier and compare\n",
        "results"
      ],
      "metadata": {
        "id": "UQYVw0xZ0FoO"
      }
    },
    {
      "cell_type": "code",
      "source": [
        "# Feature Selection with Naïve Bayes Classifier\n",
        "\n",
        "import pandas as pd\n",
        "from sklearn.datasets import load_iris\n",
        "from sklearn.model_selection import train_test_split\n",
        "from sklearn.feature_selection import SelectKBest, chi2\n",
        "from sklearn.naive_bayes import GaussianNB\n",
        "from sklearn.metrics import accuracy_score\n",
        "\n",
        "# Load dataset\n",
        "data = load_iris()\n",
        "X = pd.DataFrame(data.data, columns=data.feature_names)\n",
        "y = data.target\n",
        "\n",
        "# Split the dataset\n",
        "X_train, X_test, y_train, y_test = train_test_split(X, y, test_size=0.3, random_state=42)\n",
        "\n",
        "# Feature selection\n",
        "selector = SelectKBest(score_func=chi2, k=2)\n",
        "X_train_selected = selector.fit_transform(X_train, y_train)\n",
        "X_test_selected = selector.transform(X_test)\n",
        "\n",
        "# Train Naïve Bayes classifier\n",
        "model = GaussianNB()\n",
        "model.fit(X_train_selected, y_train)\n",
        "\n",
        "# Predictions\n",
        "y_pred = model.predict(X_test_selected)\n",
        "\n",
        "# Accuracy\n",
        "accuracy = accuracy_score(y_test, y_pred)\n",
        "print(f'Accuracy with feature selection: {accuracy:.2f}')\n",
        "\n",
        "# Train Naïve Bayes classifier without feature selection\n",
        "model_no_fs = GaussianNB()\n",
        "model_no_fs.fit(X_train, y_train)\n",
        "\n",
        "# Predictions without feature selection\n",
        "y_pred_no_fs = model_no_fs.predict(X_test)\n",
        "\n",
        "# Accuracy without feature selection\n",
        "accuracy_no_fs = accuracy_score(y_test, y_pred_no_fs)\n",
        "print(f'Accuracy without feature selection: {accuracy_no_fs:.2f}')\n"
      ],
      "metadata": {
        "colab": {
          "base_uri": "https://localhost:8080/"
        },
        "id": "kNdDpVeM0J_N",
        "outputId": "069ba5eb-9bc2-4351-823f-2bd9e72b5275"
      },
      "execution_count": 16,
      "outputs": [
        {
          "output_type": "stream",
          "name": "stdout",
          "text": [
            "Accuracy with feature selection: 1.00\n",
            "Accuracy without feature selection: 0.98\n"
          ]
        }
      ]
    },
    {
      "cell_type": "markdown",
      "source": [
        "36 . = Write a Python program to train an SVM Classifier using One-vs-Rest (OvR) and One-vs-One (OvO)\n",
        "strategies on the Wine dataset and compare their accuracy"
      ],
      "metadata": {
        "id": "Ww0VDfeu0S-F"
      }
    },
    {
      "cell_type": "code",
      "source": [
        "# Wine SVM Classifier Comparison\n",
        "\n",
        "import pandas as pd\n",
        "from sklearn import datasets\n",
        "from sklearn.model_selection import train_test_split\n",
        "from sklearn.svm import SVC\n",
        "from sklearn.multiclass import OneVsRestClassifier, OneVsOneClassifier\n",
        "from sklearn.metrics import accuracy_score\n",
        "\n",
        "# Load the Wine dataset\n",
        "wine = datasets.load_wine()\n",
        "X = wine.data\n",
        "y = wine.target\n",
        "\n",
        "# Split the dataset into training and testing sets\n",
        "X_train, X_test, y_train, y_test = train_test_split(X, y, test_size=0.2, random_state=42)\n",
        "\n",
        "# One-vs-Rest Classifier\n",
        "ovr_classifier = OneVsRestClassifier(SVC(kernel='linear'))\n",
        "ovr_classifier.fit(X_train, y_train)\n",
        "y_pred_ovr = ovr_classifier.predict(X_test)\n",
        "ovr_accuracy = accuracy_score(y_test, y_pred_ovr)\n",
        "\n",
        "# One-vs-One Classifier\n",
        "ovo_classifier = OneVsOneClassifier(SVC(kernel='linear'))\n",
        "ovo_classifier.fit(X_train, y_train)\n",
        "y_pred_ovo = ovo_classifier.predict(X_test)\n",
        "ovo_accuracy = accuracy_score(y_test, y_pred_ovo)\n",
        "\n",
        "# Print the accuracies\n",
        "print(f'One-vs-Rest Accuracy: {ovr_accuracy:.2f}')\n",
        "print(f'One-vs-One Accuracy: {ovo_accuracy:.2f}')\n"
      ],
      "metadata": {
        "colab": {
          "base_uri": "https://localhost:8080/"
        },
        "id": "UQRr9EGF0XPe",
        "outputId": "04f04272-d873-442b-9156-d909b61033e6"
      },
      "execution_count": 17,
      "outputs": [
        {
          "output_type": "stream",
          "name": "stdout",
          "text": [
            "One-vs-Rest Accuracy: 1.00\n",
            "One-vs-One Accuracy: 1.00\n"
          ]
        }
      ]
    },
    {
      "cell_type": "markdown",
      "source": [
        "37. Write a Python program to train an SVM Classifier using Linear, Polynomial, and RBF kernels on the Breast\n",
        "Cancer dataset and compare their accuracy="
      ],
      "metadata": {
        "id": "3mFcGwey0iM1"
      }
    },
    {
      "cell_type": "code",
      "source": [
        "# Breast Cancer SVM Classifier\n",
        "\n",
        "import pandas as pd\n",
        "from sklearn import datasets\n",
        "from sklearn.model_selection import train_test_split\n",
        "from sklearn.svm import SVC\n",
        "from sklearn.metrics import accuracy_score\n",
        "\n",
        "# Load the Breast Cancer dataset\n",
        "cancer = datasets.load_breast_cancer()\n",
        "X = cancer.data\n",
        "y = cancer.target\n",
        "\n",
        "# Split the dataset into training and testing sets\n",
        "X_train, X_test, y_train, y_test = train_test_split(X, y, test_size=0.2, random_state=42)\n",
        "\n",
        "# Initialize the SVM classifiers with different kernels\n",
        "kernels = ['linear', 'poly', 'rbf']\n",
        "accuracies = {}\n",
        "\n",
        "# Train and evaluate the classifiers\n",
        "for kernel in kernels:\n",
        "    model = SVC(kernel=kernel)\n",
        "    model.fit(X_train, y_train)\n",
        "    y_pred = model.predict(X_test)\n",
        "    accuracy = accuracy_score(y_test, y_pred)\n",
        "    accuracies[kernel] = accuracy\n",
        "\n",
        "# Print the accuracies\n",
        "for kernel, accuracy in accuracies.items():\n",
        "    print(f'Accuracy of SVM with {kernel} kernel: {accuracy:.4f}')\n"
      ],
      "metadata": {
        "colab": {
          "base_uri": "https://localhost:8080/"
        },
        "id": "vTQaWj1K0kV1",
        "outputId": "fa31e689-7045-49b7-9569-ba3dffd8e2d6"
      },
      "execution_count": 18,
      "outputs": [
        {
          "output_type": "stream",
          "name": "stdout",
          "text": [
            "Accuracy of SVM with linear kernel: 0.9561\n",
            "Accuracy of SVM with poly kernel: 0.9474\n",
            "Accuracy of SVM with rbf kernel: 0.9474\n"
          ]
        }
      ]
    },
    {
      "cell_type": "markdown",
      "source": [
        "38. = Write a Python program to train an SVM Classifier using Stratified K-Fold Cross-Validation and compute the\n",
        "average accuracy="
      ],
      "metadata": {
        "id": "aEPo63B90t4k"
      }
    },
    {
      "cell_type": "code",
      "source": [
        "# SVM Classifier with Stratified K-Fold Cross-Validation\n",
        "\n",
        "import numpy as np\n",
        "from sklearn import datasets\n",
        "from sklearn.model_selection import StratifiedKFold\n",
        "from sklearn.svm import SVC\n",
        "from sklearn.metrics import accuracy_score\n",
        "\n",
        "# Load dataset\n",
        "X, y = datasets.load_iris(return_X_y=True)\n",
        "\n",
        "# Initialize SVM Classifier\n",
        "svm_classifier = SVC(kernel='linear')\n",
        "\n",
        "# Stratified K-Fold Cross-Validation\n",
        "skf = StratifiedKFold(n_splits=5)\n",
        "accuracies = []\n",
        "\n",
        "for train_index, test_index in skf.split(X, y):\n",
        "    X_train, X_test = X[train_index], X[test_index]\n",
        "    y_train, y_test = y[train_index], y[test_index]\n",
        "\n",
        "    svm_classifier.fit(X_train, y_train)\n",
        "    y_pred = svm_classifier.predict(X_test)\n",
        "    accuracies.append(accuracy_score(y_test, y_pred))\n",
        "\n",
        "# Compute average accuracy\n",
        "average_accuracy = np.mean(accuracies)\n",
        "print(f'Average Accuracy: {average_accuracy:.2f}')\n"
      ],
      "metadata": {
        "colab": {
          "base_uri": "https://localhost:8080/"
        },
        "id": "qnNrqWjK0zTG",
        "outputId": "3e0e9635-8fcc-4b33-e735-71edbb2ae65d"
      },
      "execution_count": 19,
      "outputs": [
        {
          "output_type": "stream",
          "name": "stdout",
          "text": [
            "Average Accuracy: 0.98\n"
          ]
        }
      ]
    },
    {
      "cell_type": "markdown",
      "source": [
        "39. Write a Python program to train a Naïve Bayes classifier using different prior probabilities and compare\n",
        "performance="
      ],
      "metadata": {
        "id": "lFE7-X1006mc"
      }
    },
    {
      "cell_type": "code",
      "source": [
        "# Naïve Bayes Classifier with Different Prior Probabilities\n",
        "\n",
        "import numpy as np\n",
        "from sklearn.datasets import load_iris\n",
        "from sklearn.model_selection import train_test_split\n",
        "from sklearn.naive_bayes import GaussianNB\n",
        "from sklearn.metrics import accuracy_score\n",
        "\n",
        "# Load dataset\n",
        "data = load_iris()\n",
        "X = data.data\n",
        "y = data.target\n",
        "\n",
        "# Split dataset into training and testing sets\n",
        "X_train, X_test, y_train, y_test = train_test_split(X, y, test_size=0.3, random_state=42)\n",
        "\n",
        "# Different prior probabilities\n",
        "priors = [np.array([0.5, 0.3, 0.2]), np.array([0.2, 0.5, 0.3]), np.array([0.3, 0.3, 0.4])]\n",
        "\n",
        "# Store results\n",
        "results = {}\n",
        "\n",
        "for prior in priors:\n",
        "    model = GaussianNB(priors=prior)\n",
        "    model.fit(X_train, y_train)\n",
        "    y_pred = model.predict(X_test)\n",
        "    accuracy = accuracy_score(y_test, y_pred)\n",
        "    results[tuple(prior)] = accuracy\n",
        "\n",
        "# Print results\n",
        "for prior, accuracy in results.items():\n",
        "    print(f'Prior: {prior}, Accuracy: {accuracy:.2f}')\n"
      ],
      "metadata": {
        "colab": {
          "base_uri": "https://localhost:8080/"
        },
        "id": "6QdNjz9z0_eu",
        "outputId": "1e57c2cb-9e02-458a-bf99-b4a32a1187a5"
      },
      "execution_count": 20,
      "outputs": [
        {
          "output_type": "stream",
          "name": "stdout",
          "text": [
            "Prior: (np.float64(0.5), np.float64(0.3), np.float64(0.2)), Accuracy: 1.00\n",
            "Prior: (np.float64(0.2), np.float64(0.5), np.float64(0.3)), Accuracy: 1.00\n",
            "Prior: (np.float64(0.3), np.float64(0.3), np.float64(0.4)), Accuracy: 0.98\n"
          ]
        }
      ]
    },
    {
      "cell_type": "markdown",
      "source": [
        "40. Write a Python program to perform Recursive Feature Elimination (RFE) before training an SVM Classifier and\n",
        "compare accuracy="
      ],
      "metadata": {
        "id": "rknpxmGR1I1F"
      }
    },
    {
      "cell_type": "code",
      "source": [
        "# Recursive Feature Elimination with SVM Classifier\n",
        "\n",
        "import numpy as np\n",
        "import pandas as pd\n",
        "from sklearn.datasets import load_iris\n",
        "from sklearn.model_selection import train_test_split\n",
        "from sklearn.svm import SVC\n",
        "from sklearn.feature_selection import RFE\n",
        "from sklearn.metrics import accuracy_score\n",
        "\n",
        "# Load dataset\n",
        "data = load_iris()\n",
        "X = data.data\n",
        "y = data.target\n",
        "\n",
        "# Split the dataset\n",
        "X_train, X_test, y_train, y_test = train_test_split(X, y, test_size=0.3, random_state=42)\n",
        "\n",
        "# Create a SVM classifier\n",
        "model = SVC(kernel='linear')\n",
        "\n",
        "# Perform RFE\n",
        "rfe = RFE(model, n_features_to_select=2)\n",
        "rfe = rfe.fit(X_train, y_train)\n",
        "\n",
        "# Transform the dataset\n",
        "X_train_rfe = rfe.transform(X_train)\n",
        "X_test_rfe = rfe.transform(X_test)\n",
        "\n",
        "# Train the model\n",
        "model.fit(X_train_rfe, y_train)\n",
        "\n",
        "# Make predictions\n",
        "y_pred = model.predict(X_test_rfe)\n",
        "\n",
        "# Calculate accuracy\n",
        "accuracy = accuracy_score(y_test, y_pred)\n",
        "print(f'Accuracy: {accuracy:.2f}')\n"
      ],
      "metadata": {
        "colab": {
          "base_uri": "https://localhost:8080/"
        },
        "id": "cY6LN-j01MxM",
        "outputId": "2b5af177-722c-46d7-f334-5243df8ab991"
      },
      "execution_count": 21,
      "outputs": [
        {
          "output_type": "stream",
          "name": "stdout",
          "text": [
            "Accuracy: 1.00\n"
          ]
        }
      ]
    },
    {
      "cell_type": "markdown",
      "source": [
        "41. Write a Python program to train an SVM Classifier and evaluate its performance using Precision, Recall, and\n",
        "F1-Score instead of accuracy="
      ],
      "metadata": {
        "id": "5U0rMGan1UG8"
      }
    },
    {
      "cell_type": "code",
      "source": [
        "# SVM Classifier Training and Evaluation\n",
        "\n",
        "import numpy as np\n",
        "from sklearn import datasets\n",
        "from sklearn.model_selection import train_test_split\n",
        "from sklearn.svm import SVC\n",
        "from sklearn.metrics import precision_score, recall_score, f1_score\n",
        "\n",
        "# Load dataset\n",
        "iris = datasets.load_iris()\n",
        "X = iris.data\n",
        "y = iris.target\n",
        "\n",
        "# Split dataset into training and testing sets\n",
        "X_train, X_test, y_train, y_test = train_test_split(X, y, test_size=0.3, random_state=42)\n",
        "\n",
        "# Create SVM Classifier\n",
        "svm_classifier = SVC(kernel='linear')\n",
        "\n",
        "# Train the classifier\n",
        "svm_classifier.fit(X_train, y_train)\n",
        "\n",
        "# Make predictions\n",
        "y_pred = svm_classifier.predict(X_test)\n",
        "\n",
        "# Evaluate performance\n",
        "precision = precision_score(y_test, y_pred, average='weighted')\n",
        "recall = recall_score(y_test, y_pred, average='weighted')\n",
        "f1 = f1_score(y_test, y_pred, average='weighted')\n",
        "\n",
        "# Print evaluation metrics\n",
        "print(f'Precision: {precision:.2f}')\n",
        "print(f'Recall: {recall:.2f}')\n",
        "print(f'F1-Score: {f1:.2f}')\n"
      ],
      "metadata": {
        "colab": {
          "base_uri": "https://localhost:8080/"
        },
        "id": "50BSVHFB1fuo",
        "outputId": "97b98fbb-6605-4843-c875-3f9b0186d5bb"
      },
      "execution_count": 22,
      "outputs": [
        {
          "output_type": "stream",
          "name": "stdout",
          "text": [
            "Precision: 1.00\n",
            "Recall: 1.00\n",
            "F1-Score: 1.00\n"
          ]
        }
      ]
    },
    {
      "cell_type": "markdown",
      "source": [
        "42. Write a Python program to train a Naïve Bayes Classifier and evaluate its performance using Log Loss\n",
        "(Cross-Entropy Loss)="
      ],
      "metadata": {
        "id": "g_jxeeqs1hkO"
      }
    },
    {
      "cell_type": "code",
      "source": [
        "# Naïve Bayes Classifier with Log Loss Evaluation\n",
        "\n",
        "import numpy as np\n",
        "from sklearn.datasets import load_iris\n",
        "from sklearn.model_selection import train_test_split\n",
        "from sklearn.naive_bayes import GaussianNB\n",
        "from sklearn.metrics import log_loss\n",
        "\n",
        "# Load dataset\n",
        "data = load_iris()\n",
        "X = data.data\n",
        "y = data.target\n",
        "\n",
        "# Split the dataset into training and testing sets\n",
        "X_train, X_test, y_train, y_test = train_test_split(X, y, test_size=0.2, random_state=42)\n",
        "\n",
        "# Initialize the Naïve Bayes Classifier\n",
        "model = GaussianNB()\n",
        "\n",
        "# Train the model\n",
        "model.fit(X_train, y_train)\n",
        "\n",
        "# Predict probabilities\n",
        "y_pred_proba = model.predict_proba(X_test)\n",
        "\n",
        "# Calculate Log Loss\n",
        "loss = log_loss(y_test, y_pred_proba)\n",
        "\n",
        "print(f'Log Loss: {loss}')\n"
      ],
      "metadata": {
        "colab": {
          "base_uri": "https://localhost:8080/"
        },
        "id": "TsXEdr-d1oSV",
        "outputId": "396daf1f-7eee-4fd1-c59e-38d28dfbcaa5"
      },
      "execution_count": 23,
      "outputs": [
        {
          "output_type": "stream",
          "name": "stdout",
          "text": [
            "Log Loss: 0.02625269787231071\n"
          ]
        }
      ]
    },
    {
      "cell_type": "markdown",
      "source": [
        "43. Write a Python program to train an SVM Classifier and visualize the Confusion Matrix using seaborn"
      ],
      "metadata": {
        "id": "os20RDVm1uqM"
      }
    },
    {
      "cell_type": "code",
      "source": [
        "# SVM Classifier with Confusion Matrix Visualization\n",
        "\n",
        "import numpy as np\n",
        "import matplotlib.pyplot as plt\n",
        "import seaborn as sns\n",
        "from sklearn import datasets\n",
        "from sklearn.model_selection import train_test_split\n",
        "from sklearn.svm import SVC\n",
        "from sklearn.metrics import confusion_matrix\n",
        "\n",
        "# Load dataset\n",
        "iris = datasets.load_iris()\n",
        "X = iris.data\n",
        "y = iris.target\n",
        "\n",
        "# Split the dataset into training and testing sets\n",
        "X_train, X_test, y_train, y_test = train_test_split(X, y, test_size=0.3, random_state=42)\n",
        "\n",
        "# Train the SVM Classifier\n",
        "model = SVC(kernel='linear')\n",
        "model.fit(X_train, y_train)\n",
        "\n",
        "# Make predictions\n",
        "y_pred = model.predict(X_test)\n",
        "\n",
        "# Generate the confusion matrix\n",
        "cm = confusion_matrix(y_test, y_pred)\n",
        "\n",
        "# Visualize the confusion matrix\n",
        "plt.figure(figsize=(8, 6))\n",
        "sns.heatmap(cm, annot=True, fmt='d', cmap='Blues', xticklabels=iris.target_names, yticklabels=iris.target_names)\n",
        "plt.ylabel('Actual')\n",
        "plt.xlabel('Predicted')\n",
        "plt.title('Confusion Matrix')\n",
        "plt.show()\n"
      ],
      "metadata": {
        "colab": {
          "base_uri": "https://localhost:8080/",
          "height": 564
        },
        "id": "YDa_OBLR1ygt",
        "outputId": "ebfd88f3-1a35-49ae-db81-c3025e88719e"
      },
      "execution_count": 24,
      "outputs": [
        {
          "output_type": "display_data",
          "data": {
            "text/plain": [
              "<Figure size 800x600 with 2 Axes>"
            ],
            "image/png": "[encoded data removed]"
          },
          "metadata": {}
        }
      ]
    },
    {
      "cell_type": "markdown",
      "source": [
        "44. Write a Python program to train an SVM Regressor (SVR) and evaluate its performance using Mean Absolute\n",
        "Error (MAE) instead of MSE="
      ],
      "metadata": {
        "id": "via0n_Bl16UP"
      }
    },
    {
      "cell_type": "code",
      "source": [
        "# SVM Regressor with Mean Absolute Error Evaluation\n",
        "\n",
        "import numpy as np\n",
        "import pandas as pd\n",
        "from sklearn.model_selection import train_test_split\n",
        "from sklearn.svm import SVR\n",
        "from sklearn.metrics import mean_absolute_error\n",
        "\n",
        "# Sample data generation\n",
        "X = np.random.rand(100, 1) * 10  # Features\n",
        "y = 2.5 * X.flatten() + np.random.randn(100)  # Target with noise\n",
        "\n",
        "# Splitting the dataset\n",
        "X_train, X_test, y_train, y_test = train_test_split(X, y, test_size=0.2, random_state=42)\n",
        "\n",
        "# Creating and training the SVR model\n",
        "model = SVR(kernel='rbf')\n",
        "model.fit(X_train, y_train)\n",
        "\n",
        "# Making predictions\n",
        "y_pred = model.predict(X_test)\n",
        "\n",
        "# Evaluating the model using Mean Absolute Error\n",
        "mae = mean_absolute_error(y_test, y_pred)\n",
        "print(f'Mean Absolute Error: {mae}')\n"
      ],
      "metadata": {
        "colab": {
          "base_uri": "https://localhost:8080/"
        },
        "id": "2BMAA3yM1_nF",
        "outputId": "ba060029-6ab8-41c1-9cb6-879f60d4b6c7"
      },
      "execution_count": 25,
      "outputs": [
        {
          "output_type": "stream",
          "name": "stdout",
          "text": [
            "Mean Absolute Error: 1.1425078854201582\n"
          ]
        }
      ]
    },
    {
      "cell_type": "markdown",
      "source": [
        "45. = Write a Python program to train a Naïve Bayes classifier and evaluate its performance using the ROC-AUC\n",
        "score"
      ],
      "metadata": {
        "id": "ppGKWqf62GWj"
      }
    },
    {
      "cell_type": "code",
      "source": [
        "import numpy as np\n",
        "import pandas as pd\n",
        "from sklearn.model_selection import train_test_split\n",
        "from sklearn.naive_bayes import GaussianNB\n",
        "from sklearn.metrics import roc_auc_score\n",
        "from sklearn.datasets import load_iris\n",
        "\n",
        "# Load dataset\n",
        "data = load_iris()\n",
        "X = data.data\n",
        "y = (data.target == 2).astype(int)  # Binary classification\n",
        "\n",
        "# Split the dataset\n",
        "X_train, X_test, y_train, y_test = train_test_split(X, y, test_size=0.3, random_state=42)\n",
        "\n",
        "# Initialize the classifier\n",
        "model = GaussianNB()\n",
        "\n",
        "# Train the model\n",
        "model.fit(X_train, y_train)\n",
        "\n",
        "# Make predictions\n",
        "y_pred_proba = model.predict_proba(X_test)[:, 1]\n",
        "\n",
        "# Evaluate the model\n",
        "roc_auc = roc_auc_score(y_test, y_pred_proba)\n",
        "\n",
        "print(f'ROC-AUC Score: {roc_auc}')\n"
      ],
      "metadata": {
        "colab": {
          "base_uri": "https://localhost:8080/"
        },
        "id": "U2U4JuBt2Q3N",
        "outputId": "6d17d89d-b7e5-45ad-9d87-c9c408fdcde2"
      },
      "execution_count": 26,
      "outputs": [
        {
          "output_type": "stream",
          "name": "stdout",
          "text": [
            "ROC-AUC Score: 1.0\n"
          ]
        }
      ]
    },
    {
      "cell_type": "markdown",
      "source": [
        "46. Write a Python program to train an SVM Classifier and visualize the Precision-Recall Curve"
      ],
      "metadata": {
        "id": "zY246nAV2TH6"
      }
    },
    {
      "cell_type": "code",
      "source": [
        "# SVM Classifier with Precision-Recall Curve Visualization\n",
        "\n",
        "import numpy as np\n",
        "import matplotlib.pyplot as plt\n",
        "from sklearn import datasets\n",
        "from sklearn.model_selection import train_test_split\n",
        "from sklearn.svm import SVC\n",
        "from sklearn.metrics import precision_recall_curve\n",
        "from sklearn.metrics import average_precision_score\n",
        "\n",
        "# Load dataset\n",
        "X, y = datasets.load_iris(return_X_y=True)\n",
        "X = X[y != 0]  # Use only two classes for binary classification\n",
        "y = y[y != 0]\n",
        "\n",
        "# Split the dataset\n",
        "X_train, X_test, y_train, y_test = train_test_split(X, y, test_size=0.3, random_state=42)\n",
        "\n",
        "# Train SVM Classifier\n",
        "model = SVC(probability=True)\n",
        "model.fit(X_train, y_train)\n",
        "\n",
        "# Get prediction scores\n",
        "y_scores = model.predict_proba(X_test)[:, 1]\n",
        "\n",
        "# Calculate precision and recall\n",
        "precision, recall, _ = precision_recall_curve(y_test, y_scores)\n",
        "average_precision = average_precision_score(y_test, y_scores)\n",
        "\n",
        "# Plot Precision-Recall Curve\n",
        "plt.figure()\n",
        "plt.step(recall, precision, where='post', label='Precision-Recall curve (area = {:.2f})'.format(average_precision))\n",
        "plt.fill_between(recall, precision, alpha=0.2)\n",
        "plt.xlabel('Recall')\n",
        "plt.ylabel('Precision')\n",
        "plt.title('Precision-Recall Curve')\n",
        "plt.legend(loc='best')\n",
        "plt.show()\n"
      ],
      "metadata": {
        "id": "QX7Ap8pf2ex6"
      },
      "execution_count": null,
      "outputs": []
    }
  ]
}